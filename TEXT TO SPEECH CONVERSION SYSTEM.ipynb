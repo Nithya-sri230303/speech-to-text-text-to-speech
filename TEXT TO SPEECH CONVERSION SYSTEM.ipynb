{
 "cells": [
  {
   "cell_type": "code",
   "execution_count": 1,
   "id": "7d3b68f2",
   "metadata": {},
   "outputs": [
    {
     "name": "stdout",
     "output_type": "stream",
     "text": [
      "Requirement already satisfied: gTTs in c:\\users\\admin\\anaconda3\\lib\\site-packages (2.3.1)\n",
      "Requirement already satisfied: click<8.2,>=7.1 in c:\\users\\admin\\anaconda3\\lib\\site-packages (from gTTs) (8.0.4)\n",
      "Requirement already satisfied: requests<3,>=2.27 in c:\\users\\admin\\anaconda3\\lib\\site-packages (from gTTs) (2.27.1)\n",
      "Requirement already satisfied: colorama in c:\\users\\admin\\anaconda3\\lib\\site-packages (from click<8.2,>=7.1->gTTs) (0.4.4)\n",
      "Requirement already satisfied: charset-normalizer~=2.0.0 in c:\\users\\admin\\anaconda3\\lib\\site-packages (from requests<3,>=2.27->gTTs) (2.0.4)\n",
      "Requirement already satisfied: idna<4,>=2.5 in c:\\users\\admin\\anaconda3\\lib\\site-packages (from requests<3,>=2.27->gTTs) (3.3)\n",
      "Requirement already satisfied: certifi>=2017.4.17 in c:\\users\\admin\\anaconda3\\lib\\site-packages (from requests<3,>=2.27->gTTs) (2021.10.8)\n",
      "Requirement already satisfied: urllib3<1.27,>=1.21.1 in c:\\users\\admin\\anaconda3\\lib\\site-packages (from requests<3,>=2.27->gTTs) (1.26.9)\n",
      "Requirement already satisfied: IPython in c:\\users\\admin\\anaconda3\\lib\\site-packages (8.2.0)\n",
      "Requirement already satisfied: backcall in c:\\users\\admin\\anaconda3\\lib\\site-packages (from IPython) (0.2.0)\n",
      "Requirement already satisfied: colorama in c:\\users\\admin\\anaconda3\\lib\\site-packages (from IPython) (0.4.4)\n",
      "Requirement already satisfied: stack-data in c:\\users\\admin\\anaconda3\\lib\\site-packages (from IPython) (0.2.0)\n",
      "Requirement already satisfied: matplotlib-inline in c:\\users\\admin\\anaconda3\\lib\\site-packages (from IPython) (0.1.2)\n",
      "Requirement already satisfied: traitlets>=5 in c:\\users\\admin\\anaconda3\\lib\\site-packages (from IPython) (5.1.1)\n",
      "Requirement already satisfied: pygments>=2.4.0 in c:\\users\\admin\\anaconda3\\lib\\site-packages (from IPython) (2.11.2)\n",
      "Requirement already satisfied: pickleshare in c:\\users\\admin\\anaconda3\\lib\\site-packages (from IPython) (0.7.5)\n",
      "Requirement already satisfied: jedi>=0.16 in c:\\users\\admin\\anaconda3\\lib\\site-packages (from IPython) (0.18.1)\n",
      "Requirement already satisfied: setuptools>=18.5 in c:\\users\\admin\\anaconda3\\lib\\site-packages (from IPython) (61.2.0)\n",
      "Requirement already satisfied: prompt-toolkit!=3.0.0,!=3.0.1,<3.1.0,>=2.0.0 in c:\\users\\admin\\anaconda3\\lib\\site-packages (from IPython) (3.0.20)\n",
      "Requirement already satisfied: decorator in c:\\users\\admin\\anaconda3\\lib\\site-packages (from IPython) (5.1.1)\n",
      "Requirement already satisfied: parso<0.9.0,>=0.8.0 in c:\\users\\admin\\anaconda3\\lib\\site-packages (from jedi>=0.16->IPython) (0.8.3)\n",
      "Requirement already satisfied: wcwidth in c:\\users\\admin\\anaconda3\\lib\\site-packages (from prompt-toolkit!=3.0.0,!=3.0.1,<3.1.0,>=2.0.0->IPython) (0.2.5)\n",
      "Requirement already satisfied: executing in c:\\users\\admin\\anaconda3\\lib\\site-packages (from stack-data->IPython) (0.8.3)\n",
      "Requirement already satisfied: pure-eval in c:\\users\\admin\\anaconda3\\lib\\site-packages (from stack-data->IPython) (0.2.2)\n",
      "Requirement already satisfied: asttokens in c:\\users\\admin\\anaconda3\\lib\\site-packages (from stack-data->IPython) (2.0.5)\n",
      "Requirement already satisfied: six in c:\\users\\admin\\anaconda3\\lib\\site-packages (from asttokens->stack-data->IPython) (1.16.0)\n",
      "Requirement already satisfied: pygame in c:\\users\\admin\\anaconda3\\lib\\site-packages (2.1.3)\n"
     ]
    }
   ],
   "source": [
    "!pip install gTTs\n",
    "!pip install IPython\n",
    "!pip install pygame"
   ]
  },
  {
   "cell_type": "code",
   "execution_count": 6,
   "id": "c4dc4792",
   "metadata": {},
   "outputs": [],
   "source": [
    "# Import necessary packages\n",
    "from gtts import gTTS\n",
    "import pygame\n",
    "\n",
    "# Define the text to convert\n",
    "text = \"Hello, how are you today?\"\n",
    "\n",
    "# Create an instance of gTTS class\n",
    "tts = gTTS(text)\n",
    "\n",
    "# Save the speech as an MP3 file\n",
    "tts.save(\"newone.mp3\")\n",
    "\n",
    "# Initialize Pygame mixer\n",
    "pygame.mixer.init()\n",
    "\n",
    "# Load the speech file\n",
    "pygame.mixer.music.load(\"newone.mp3\")\n",
    "\n",
    "# Play the speech\n",
    "pygame.mixer.music.play()\n",
    "\n",
    "# Wait for the speech to finish playing\n",
    "while pygame.mixer.music.get_busy() == True:\n",
    "    continue\n"
   ]
  },
  {
   "cell_type": "code",
   "execution_count": 7,
   "id": "e1577fde",
   "metadata": {},
   "outputs": [
    {
     "name": "stdout",
     "output_type": "stream",
     "text": [
      "Requirement already satisfied: SpeechRecognition in c:\\users\\admin\\anaconda3\\lib\\site-packages (3.9.0)\n",
      "Requirement already satisfied: requests>=2.26.0 in c:\\users\\admin\\anaconda3\\lib\\site-packages (from SpeechRecognition) (2.27.1)\n",
      "Requirement already satisfied: charset-normalizer~=2.0.0 in c:\\users\\admin\\anaconda3\\lib\\site-packages (from requests>=2.26.0->SpeechRecognition) (2.0.4)\n",
      "Requirement already satisfied: urllib3<1.27,>=1.21.1 in c:\\users\\admin\\anaconda3\\lib\\site-packages (from requests>=2.26.0->SpeechRecognition) (1.26.9)\n",
      "Requirement already satisfied: certifi>=2017.4.17 in c:\\users\\admin\\anaconda3\\lib\\site-packages (from requests>=2.26.0->SpeechRecognition) (2021.10.8)\n",
      "Requirement already satisfied: idna<4,>=2.5 in c:\\users\\admin\\anaconda3\\lib\\site-packages (from requests>=2.26.0->SpeechRecognition) (3.3)\n",
      "Requirement already satisfied: pyaudio in c:\\users\\admin\\anaconda3\\lib\\site-packages (0.2.13)\n"
     ]
    }
   ],
   "source": [
    "!pip install SpeechRecognition\n",
    "!pip install pyaudio"
   ]
  },
  {
   "cell_type": "code",
   "execution_count": 4,
   "id": "e2927e4f",
   "metadata": {},
   "outputs": [
    {
     "name": "stdout",
     "output_type": "stream",
     "text": [
      "Speak something...\n",
      "Could not request results; recognition request failed: Service Unavailable\n"
     ]
    }
   ],
   "source": [
    " #Import necessary packages\n",
    "import speech_recognition as sr\n",
    "\n",
    "# Define a function to convert speech to text\n",
    "def speech_to_text():\n",
    "\n",
    "    # Create a recognizer object\n",
    "    r = sr.Recognizer()\n",
    "\n",
    "    # Use the default microphone as the audio source\n",
    "    with sr.Microphone() as source:\n",
    "\n",
    "        # Adjust for ambient noise\n",
    "        r.adjust_for_ambient_noise(source)\n",
    "\n",
    "        # Prompt the user to speak a message\n",
    "        print(\"Speak something...\")\n",
    "\n",
    "        # Listen for the user's message\n",
    "        audio = r.listen(source)\n",
    "\n",
    "    # Use Google Speech Recognition to convert the audio to text\n",
    "    try:\n",
    "        text = r.recognize_google(audio)\n",
    "        print(\"You said: \" + text)\n",
    "\n",
    "    except sr.UnknownValueError:\n",
    "        print(\"Could not understand audio\")\n",
    "\n",
    "    except sr.RequestError as e:\n",
    "        print(\"Could not request results; {0}\".format(e))\n",
    "\n",
    "# Call the function to convert speech to text\n",
    "speech_to_text()"
   ]
  },
  {
   "cell_type": "code",
   "execution_count": null,
   "id": "542ef4e2",
   "metadata": {},
   "outputs": [],
   "source": []
  }
 ],
 "metadata": {
  "kernelspec": {
   "display_name": "Python 3 (ipykernel)",
   "language": "python",
   "name": "python3"
  },
  "language_info": {
   "codemirror_mode": {
    "name": "ipython",
    "version": 3
   },
   "file_extension": ".py",
   "mimetype": "text/x-python",
   "name": "python",
   "nbconvert_exporter": "python",
   "pygments_lexer": "ipython3",
   "version": "3.9.12"
  }
 },
 "nbformat": 4,
 "nbformat_minor": 5
}
